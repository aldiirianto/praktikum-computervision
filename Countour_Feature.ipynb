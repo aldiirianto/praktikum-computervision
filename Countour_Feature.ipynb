{
  "nbformat": 4,
  "nbformat_minor": 5,
  "metadata": {
    "kernelspec": {
      "display_name": "Python 3",
      "language": "python",
      "name": "python3"
    },
    "language_info": {
      "codemirror_mode": {
        "name": "ipython",
        "version": 3
      },
      "file_extension": ".py",
      "mimetype": "text/x-python",
      "name": "python",
      "nbconvert_exporter": "python",
      "pygments_lexer": "ipython3",
      "version": "3.9.2"
    },
    "colab": {
      "name": "Countour_Feature.ipynb",
      "provenance": [],
      "include_colab_link": true
    }
  },
  "cells": [
    {
      "cell_type": "markdown",
      "metadata": {
        "id": "view-in-github",
        "colab_type": "text"
      },
      "source": [
        "<a href=\"https://colab.research.google.com/github/aldiirianto/praktikum-computervision/blob/main/Countour_Feature.ipynb\" target=\"_parent\"><img src=\"https://colab.research.google.com/assets/colab-badge.svg\" alt=\"Open In Colab\"/></a>"
      ]
    },
    {
      "cell_type": "markdown",
      "metadata": {
        "id": "c8216bd6-3224-4fd7-9770-aeab9d5a4503"
      },
      "source": [
        "# Panduan Membuat Countour Feature"
      ],
      "id": "c8216bd6-3224-4fd7-9770-aeab9d5a4503"
    },
    {
      "cell_type": "markdown",
      "metadata": {
        "id": "eca9bd21-a73c-45e2-9fe0-9eedfba326f6"
      },
      "source": [
        "Tujuan praktikum kali ini adalah untuk mengenali karakter pada suatu bentuk objek/gambar."
      ],
      "id": "eca9bd21-a73c-45e2-9fe0-9eedfba326f6"
    },
    {
      "cell_type": "markdown",
      "metadata": {
        "id": "db8177a1-cb71-4e51-b811-79bb90ef435e"
      },
      "source": [
        "Sumber referensi belajar : https://github.com/Muhammad-Yunus/Belajar-Computer-Vision/blob/master/10.%20OpenCV%20-%20Part%204/10.%20OpenCV%20-%20Part%204.ipynb"
      ],
      "id": "db8177a1-cb71-4e51-b811-79bb90ef435e"
    },
    {
      "cell_type": "code",
      "metadata": {
        "id": "8446fe12-a714-459f-9228-8de32a0a5534"
      },
      "source": [
        "import cv2\n",
        "import numpy as np"
      ],
      "id": "8446fe12-a714-459f-9228-8de32a0a5534",
      "execution_count": null,
      "outputs": []
    },
    {
      "cell_type": "markdown",
      "metadata": {
        "id": "0f0dcbb0-19c7-463c-9e71-1f402b66be34"
      },
      "source": [
        "### Contour Feature"
      ],
      "id": "0f0dcbb0-19c7-463c-9e71-1f402b66be34"
    },
    {
      "cell_type": "markdown",
      "metadata": {
        "id": "4510785f-909a-44ce-8dc6-7f258e3f3185"
      },
      "source": [
        "- Contour Area (luasan)\n",
        "- area = cv2.contourArea(cnt)\n",
        "- Contour Perimeter (keliling)\n",
        "- perimeter = cv2.arcLength(cnt,True)\n",
        "- Contour Approximation\n",
        "- epsilon = 0.1*cv2.arcLength(cnt,True)\n",
        "    approx = cv2.approxPolyDP(cnt,epsilon,True)\n",
        "    Below, in second image, green line shows the approximated curve for epsilon = 10% of arc length.\n",
        "    Third image shows the same for epsilon = 1% of the arc length.\n",
        "- Convex Hull\n",
        "  hull = cv2.convexHull(points[, hull[, clockwise[, returnPoints]]\n",
        "- Bounding Rectangle\n",
        "  - Straight Bounding Rectangle\n",
        "    rect = cv2.boundingRect(cc)\n",
        "  - Rotated Rectangle \n",
        "    rect = cv2.minAreaRect(cnt)\n",
        "- Minimum Enclosing Circle\n",
        "  - (x,y),radius = cv2.minEnclosingCircle(cnt)\n",
        "  - center = (int(x),int(y))\n",
        "  - radius = int(radius)\n",
        "- Fitting an Ellipse\n",
        "  - ellipse = cv2.fitEllipse(cnt)\n",
        "  - cv2.ellipse(img,ellipse,(0,255,0),2)\n",
        "- Fitting a Line\n",
        "  - rows,cols = img.shape[:2]\n",
        "  - [vx,vy,x,y] = cv2.fitLine(cnt, cv2.DIST_L2,0,0.01,0.01)\n",
        "  - lefty = int((-x*vy/vx) + y)\n",
        "  - righty = int(((cols-x)*vy/vx)+y)"
      ],
      "id": "4510785f-909a-44ce-8dc6-7f258e3f3185"
    },
    {
      "cell_type": "markdown",
      "metadata": {
        "id": "49b48db0-5e1d-4199-bf79-38d821706ae7"
      },
      "source": [
        "- Contour Area (luasan)"
      ],
      "id": "49b48db0-5e1d-4199-bf79-38d821706ae7"
    },
    {
      "cell_type": "code",
      "metadata": {
        "id": "917678c4-502c-42b5-a2ff-7feeeec15cea"
      },
      "source": [
        "img = cv2.imread('jawaban_task2.png')\n",
        "gray = cv2.cvtColor(img, cv2.COLOR_BGR2GRAY)\n",
        "ret, thresh = cv2.threshold(gray, 127, 255, cv2.THRESH_BINARY)\n",
        "contours, hierarchy = cv2.findContours(thresh, cv2.RETR_CCOMP, cv2.CHAIN_APPROX_NONE)"
      ],
      "id": "917678c4-502c-42b5-a2ff-7feeeec15cea",
      "execution_count": null,
      "outputs": []
    },
    {
      "cell_type": "code",
      "metadata": {
        "id": "e4e1485e-a2f9-4860-8344-a3bab0e74c09",
        "outputId": "ebbd596b-f30d-4165-a7bd-217bad657380"
      },
      "source": [
        "for cnt in contours:\n",
        "    area = cv2.contourArea(cnt)\n",
        "    print(\"luas : %d pixel\" % area)"
      ],
      "id": "e4e1485e-a2f9-4860-8344-a3bab0e74c09",
      "execution_count": null,
      "outputs": [
        {
          "name": "stdout",
          "output_type": "stream",
          "text": [
            "luas : 0 pixel\n",
            "luas : 0 pixel\n",
            "luas : 0 pixel\n",
            "luas : 0 pixel\n",
            "luas : 0 pixel\n",
            "luas : 0 pixel\n",
            "luas : 0 pixel\n",
            "luas : 0 pixel\n",
            "luas : 0 pixel\n",
            "luas : 159 pixel\n",
            "luas : 125 pixel\n",
            "luas : 152 pixel\n",
            "luas : 212 pixel\n",
            "luas : 697 pixel\n",
            "luas : 220 pixel\n",
            "luas : 0 pixel\n",
            "luas : 0 pixel\n",
            "luas : 159840 pixel\n",
            "luas : 7209 pixel\n",
            "luas : 3268 pixel\n",
            "luas : 4636 pixel\n",
            "luas : 2911 pixel\n",
            "luas : 3212 pixel\n",
            "luas : 2166 pixel\n",
            "luas : 0 pixel\n",
            "luas : 0 pixel\n"
          ]
        }
      ]
    },
    {
      "cell_type": "markdown",
      "metadata": {
        "id": "b956bda7-bf6e-4755-82b1-aa27b0f195c3"
      },
      "source": [
        "- Contour Perimeter (keliling)"
      ],
      "id": "b956bda7-bf6e-4755-82b1-aa27b0f195c3"
    },
    {
      "cell_type": "code",
      "metadata": {
        "id": "dbc0804e-ed4c-4c44-942e-222c1cb27bd5",
        "outputId": "0d9e761a-34cc-4b9e-d54c-0bda4f748668"
      },
      "source": [
        "for cnt in contours:\n",
        "    perimeter = cv2.arcLength(cnt,True)\n",
        "    print(\"keliling : %d pixel\" % perimeter)"
      ],
      "id": "dbc0804e-ed4c-4c44-942e-222c1cb27bd5",
      "execution_count": null,
      "outputs": [
        {
          "name": "stdout",
          "output_type": "stream",
          "text": [
            "keliling : 192 pixel\n",
            "keliling : 196 pixel\n",
            "keliling : 194 pixel\n",
            "keliling : 194 pixel\n",
            "keliling : 194 pixel\n",
            "keliling : 194 pixel\n",
            "keliling : 49 pixel\n",
            "keliling : 94 pixel\n",
            "keliling : 96 pixel\n",
            "keliling : 55 pixel\n",
            "keliling : 51 pixel\n",
            "keliling : 54 pixel\n",
            "keliling : 56 pixel\n",
            "keliling : 107 pixel\n",
            "keliling : 96 pixel\n",
            "keliling : 96 pixel\n",
            "keliling : 94 pixel\n",
            "keliling : 1724 pixel\n",
            "keliling : 767 pixel\n",
            "keliling : 394 pixel\n",
            "keliling : 261 pixel\n",
            "keliling : 366 pixel\n",
            "keliling : 367 pixel\n",
            "keliling : 236 pixel\n",
            "keliling : 96 pixel\n",
            "keliling : 1190 pixel\n"
          ]
        }
      ]
    },
    {
      "cell_type": "markdown",
      "metadata": {
        "id": "fae0610e-ad0f-4e04-8c8f-3b4d08224966"
      },
      "source": [
        "- Contour Approximation"
      ],
      "id": "fae0610e-ad0f-4e04-8c8f-3b4d08224966"
    },
    {
      "cell_type": "code",
      "metadata": {
        "id": "efc6ea6c-c8a6-4163-ae56-877d10ec9ef3"
      },
      "source": [
        "img = cv2.imread('jawaban_task2.png')\n",
        "\n",
        "gray = cv2.cvtColor(img, cv2.COLOR_BGR2GRAY)\n",
        "\n",
        "ret, thresh = cv2.threshold(gray, 100, 255, cv2.THRESH_BINARY_INV)\n",
        "\n",
        "contours, hierarchy = cv2.findContours(thresh, cv2.RETR_EXTERNAL, cv2.CHAIN_APPROX_NONE)\n",
        "\n",
        "for cnt in contours:\n",
        "    epsilon = 0.1*cv2.arcLength(cnt,True)\n",
        "    approx = cv2.approxPolyDP(cnt,epsilon,True)\n",
        "    cv2.polylines(img, [approx], True, (0,255,255), 3)\n",
        "    \n",
        "cv2.imshow(\"Contour Approximation\", img)\n",
        "cv2.waitKey(0)\n",
        "cv2.destroyAllWindows()"
      ],
      "id": "efc6ea6c-c8a6-4163-ae56-877d10ec9ef3",
      "execution_count": null,
      "outputs": []
    },
    {
      "cell_type": "markdown",
      "metadata": {
        "id": "56ddf5c2-c1dd-4144-8efa-76b8f9cc8395"
      },
      "source": [
        "- Trackbar change epsilon to arcLength portion on Contour Approximation"
      ],
      "id": "56ddf5c2-c1dd-4144-8efa-76b8f9cc8395"
    },
    {
      "cell_type": "code",
      "metadata": {
        "id": "5fb22a86-a462-4759-82ef-77230f039c05"
      },
      "source": [
        "max_value = 1000\n",
        "default_value = 10\n",
        "\n",
        "title_window = \"Contour Approximation\"\n",
        "\n",
        "def on_trackbar(val):\n",
        "    if val > 0 :\n",
        "        frame = img.copy()\n",
        "        for cnt in contours:\n",
        "            epsilon = (1/val)*cv2.arcLength(cnt,True)\n",
        "            approx = cv2.approxPolyDP(cnt,epsilon,True)\n",
        "            cv2.polylines(frame, [approx], True, (0,255,255), 3)\n",
        "            cv2.imshow(title_window, frame)\n",
        "\n",
        "img = cv2.imread('jawaban_task2.png')\n",
        "gray = cv2.cvtColor(img, cv2.COLOR_BGR2GRAY)\n",
        "ret, thresh = cv2.threshold(gray, 100, 255, cv2.THRESH_BINARY_INV)\n",
        "contours, hierarchy = cv2.findContours(thresh, cv2.RETR_EXTERNAL, cv2.CHAIN_APPROX_NONE)\n",
        "\n",
        "cv2.namedWindow(title_window)\n",
        "cv2.createTrackbar('divisor', title_window , default_value, max_value, on_trackbar)\n",
        "\n",
        "on_trackbar(default_value)\n",
        "cv2.waitKey(0)\n",
        "cv2.destroyAllWindows()\n"
      ],
      "id": "5fb22a86-a462-4759-82ef-77230f039c05",
      "execution_count": null,
      "outputs": []
    },
    {
      "cell_type": "markdown",
      "metadata": {
        "id": "e864d2e4-a401-4e02-a034-da88e77d5b4c"
      },
      "source": [
        "- Straight Bounding Rectangle"
      ],
      "id": "e864d2e4-a401-4e02-a034-da88e77d5b4c"
    },
    {
      "cell_type": "code",
      "metadata": {
        "id": "1336fb3b-766a-4d0c-a7f0-36eb709e4f81",
        "outputId": "0698b62b-bd0b-408d-8a2b-698780e29979"
      },
      "source": [
        "img = cv2.imread('jawaban_task2.png')\n",
        "gray = cv2.cvtColor(img, cv2.COLOR_BGR2GRAY)\n",
        "ret, thresh = cv2.threshold(gray, 100, 255, cv2.THRESH_BINARY_INV)\n",
        "\n",
        "contours, hierarchy = cv2.findContours(thresh, cv2.RETR_EXTERNAL, cv2.CHAIN_APPROX_NONE)\n",
        "\n",
        "for cnt in contours:\n",
        "    rect = cv2.boundingRect(cnt)\n",
        "    print(rect) # x, y, w, h"
      ],
      "id": "1336fb3b-766a-4d0c-a7f0-36eb709e4f81",
      "execution_count": null,
      "outputs": [
        {
          "name": "stdout",
          "output_type": "stream",
          "text": [
            "(0, 1, 596, 274)\n"
          ]
        }
      ]
    },
    {
      "cell_type": "markdown",
      "metadata": {
        "id": "0537acd9-b1fa-4b65-9b12-c6c5e715b169"
      },
      "source": [
        "- Draw bounding box for each contour using cv2.rectangle()"
      ],
      "id": "0537acd9-b1fa-4b65-9b12-c6c5e715b169"
    },
    {
      "cell_type": "code",
      "metadata": {
        "id": "93f69655-4f99-4111-8e17-91ef6a060f77"
      },
      "source": [
        "frame = img.copy()\n",
        "for cnt in contours:\n",
        "    rect = cv2.boundingRect(cnt)\n",
        "    x, y, w, h = rect\n",
        "    cv2.rectangle(frame, (x, y), (x+w, y+h), (0,0,255), 3)\n",
        "    \n",
        "cv2.imshow(\"Contour Draw Rectangle\", frame)\n",
        "cv2.waitKey(0)\n",
        "cv2.destroyAllWindows()"
      ],
      "id": "93f69655-4f99-4111-8e17-91ef6a060f77",
      "execution_count": null,
      "outputs": []
    },
    {
      "cell_type": "markdown",
      "metadata": {
        "id": "291b6643-3077-4ebc-a3d1-5f1a87fc5748"
      },
      "source": [
        "- Crop each contour from input image, and display"
      ],
      "id": "291b6643-3077-4ebc-a3d1-5f1a87fc5748"
    },
    {
      "cell_type": "code",
      "metadata": {
        "id": "8f01c4e9-9bce-4a39-adbf-0fd3f1b547bc"
      },
      "source": [
        "frame = img.copy()\n",
        "for i, cnt in enumerate(contours):\n",
        "    rect = cv2.boundingRect(cnt)\n",
        "    x, y, w, h = rect\n",
        "    roi = frame[y:y+h, x:x+w]\n",
        "    cv2.imshow(\"Contour-%d\" % i, roi)\n",
        "    \n",
        "cv2.waitKey(0)\n",
        "cv2.destroyAllWindows()"
      ],
      "id": "8f01c4e9-9bce-4a39-adbf-0fd3f1b547bc",
      "execution_count": null,
      "outputs": []
    },
    {
      "cell_type": "code",
      "metadata": {
        "id": "3496968d-9255-4e1c-abcd-fef43147e2e4"
      },
      "source": [
        "frame = img.copy()\n",
        "roi = []\n",
        "for i, cnt in enumerate(contours):\n",
        "    rect = cv2.boundingRect(cnt)\n",
        "    x, y, w, h = rect\n",
        "    roi.append(frame[y:y+h, x:x+w])\n",
        "    \n",
        "cv2.waitKey(0)\n",
        "cv2.destroyAllWindows()"
      ],
      "id": "3496968d-9255-4e1c-abcd-fef43147e2e4",
      "execution_count": null,
      "outputs": []
    },
    {
      "cell_type": "code",
      "metadata": {
        "id": "48e07656-b836-4bcd-b2f6-cc9d867a11c0"
      },
      "source": [
        "for i, item in enumerate(roi) :\n",
        "    cv2.imshow(\"image roi - %d\" %i , item)   \n",
        "cv2.waitKey(0)\n",
        "cv2.destroyAllWindows()\n"
      ],
      "id": "48e07656-b836-4bcd-b2f6-cc9d867a11c0",
      "execution_count": null,
      "outputs": []
    },
    {
      "cell_type": "markdown",
      "metadata": {
        "id": "dec2d41d-b3a8-4486-b3ed-b79f2b3f2a37"
      },
      "source": [
        "### Crop Foto KTP"
      ],
      "id": "dec2d41d-b3a8-4486-b3ed-b79f2b3f2a37"
    },
    {
      "cell_type": "markdown",
      "metadata": {
        "id": "292e5236-5d4b-481b-9221-86e0e1679cd1"
      },
      "source": [
        "- Crop foto dari KTP berikut ktp.jpg"
      ],
      "id": "292e5236-5d4b-481b-9221-86e0e1679cd1"
    },
    {
      "cell_type": "code",
      "metadata": {
        "id": "ba18b582-5993-461e-a6bc-45eecd9d7bcb"
      },
      "source": [
        "img = cv2.imread(\"ktp1.jpg\")\n",
        "h_img, w_img, c = img.shape\n",
        "\n",
        "gray = cv2.cvtColor(img, cv2.COLOR_BGR2GRAY)\n",
        "thresh, binary = cv2.threshold(gray, 0, 255, cv2.THRESH_BINARY_INV + cv2.THRESH_OTSU)\n",
        "\n",
        "contours, hierarchy = cv2.findContours(binary, cv2.RETR_CCOMP, cv2.CHAIN_APPROX_NONE)\n",
        "\n",
        "for cnt in contours:\n",
        "    rect = cv2.boundingRect(cnt)\n",
        "    x, y, w, h = rect\n",
        "\n",
        "    aspectRatio = w/h\n",
        "    heightRatio = h/ h_img\n",
        "    \n",
        "    keepAspectRatio = aspectRatio > 0.7 and aspectRatio < 0.9\n",
        "    keepHeighRatio = heightRatio > 0.4 and heightRatio < 0.5\n",
        "    \n",
        "    if keepAspectRatio and  keepHeighRatio :\n",
        "        roi = img[y:y+h, x:x+w]\n",
        "        cv2.rectangle(img, (x, y), (x+w, y+h), (255, 0, 255), 2)\n",
        "    \n",
        "        cv2.imshow(\"Binary\", binary)\n",
        "        cv2.imshow(\"Cropped Photo\", roi)\n",
        "        \n",
        "cv2.imshow(\"Detected Photo\", img)  \n",
        "cv2.waitKey(0)\n",
        "cv2.destroyAllWindows()"
      ],
      "id": "ba18b582-5993-461e-a6bc-45eecd9d7bcb",
      "execution_count": null,
      "outputs": []
    }
  ]
}