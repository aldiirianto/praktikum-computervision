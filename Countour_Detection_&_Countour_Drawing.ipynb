{
  "nbformat": 4,
  "nbformat_minor": 5,
  "metadata": {
    "kernelspec": {
      "display_name": "Python 3",
      "language": "python",
      "name": "python3"
    },
    "language_info": {
      "codemirror_mode": {
        "name": "ipython",
        "version": 3
      },
      "file_extension": ".py",
      "mimetype": "text/x-python",
      "name": "python",
      "nbconvert_exporter": "python",
      "pygments_lexer": "ipython3",
      "version": "3.9.2"
    },
    "toc-autonumbering": false,
    "colab": {
      "name": "Countour Detection & Countour Drawing.ipynb",
      "provenance": [],
      "collapsed_sections": [],
      "include_colab_link": true
    }
  },
  "cells": [
    {
      "cell_type": "markdown",
      "metadata": {
        "id": "view-in-github",
        "colab_type": "text"
      },
      "source": [
        "<a href=\"https://colab.research.google.com/github/aldiirianto/praktikum-computervision/blob/main/Countour_Detection_%26_Countour_Drawing.ipynb\" target=\"_parent\"><img src=\"https://colab.research.google.com/assets/colab-badge.svg\" alt=\"Open In Colab\"/></a>"
      ]
    },
    {
      "cell_type": "markdown",
      "metadata": {
        "id": "1a65464a-3634-49ff-9bb3-87475abf81db"
      },
      "source": [
        "# Panduan Membuat Countour Detection & Countour Drawing"
      ],
      "id": "1a65464a-3634-49ff-9bb3-87475abf81db"
    },
    {
      "cell_type": "markdown",
      "metadata": {
        "id": "5b2345c6-f6ed-4474-9a93-c7654e14e006"
      },
      "source": [
        "Tujuan praktikum kali ini adalah untuk membuat garis tepi (kontur) yang mengikuti bentuk objek suatu gambar."
      ],
      "id": "5b2345c6-f6ed-4474-9a93-c7654e14e006"
    },
    {
      "cell_type": "markdown",
      "metadata": {
        "id": "049cd68c-5dc9-46c4-b8d8-a7283ab7eb2f"
      },
      "source": [
        "Sumber referensi belajar : https://github.com/Muhammad-Yunus/Belajar-Computer-Vision/blob/master/10.%20OpenCV%20-%20Part%204/10.%20OpenCV%20-%20Part%204.ipynb"
      ],
      "id": "049cd68c-5dc9-46c4-b8d8-a7283ab7eb2f"
    },
    {
      "cell_type": "code",
      "metadata": {
        "id": "ad379154-779c-4b86-babb-6dbe8928241f"
      },
      "source": [
        "import cv2\n",
        "import numpy as np"
      ],
      "id": "ad379154-779c-4b86-babb-6dbe8928241f",
      "execution_count": null,
      "outputs": []
    },
    {
      "cell_type": "markdown",
      "metadata": {
        "id": "1a96bf31-0d3b-4485-8a02-d16a013b9044"
      },
      "source": [
        "Dalam pembuatan kontur atau garis tepi, kita akan menggunakan beberapa hal seperti :\n",
        "   - Menggunakan method **cv2.findContour(img, mode, method)**\n",
        "     - img : input image\n",
        "     - mode :\n",
        "        cv2.CHAIN_APPROX_NONE : all the boundary points are stored\n",
        "        cv2.CHAIN_APPROX_SIMPLE : only end points / corner of that shape are stored\n",
        "     - method :\n",
        "        cv2.RETR_EXTERNAL : retrieves only the extreme outer contours. It sets all contours to hierarchy[i][2] = hierarchy[i][3] = -1.\n",
        "        cv2.RETR_LIST : retrieves all of the contours without establishing any hierarchical relationships.\n",
        "        cv2.RETR_CCOMP : retrieves all of the contours and organizes them into a two-level hierarchy.\n",
        "        cv2.RETR_TREE : retrieves all of the contours and reconstructs a full hierarchy of nested contours\n",
        "     - hierarchy : list of [Next, Previous, First_Child, Parent],\n",
        "       Representation of this relationship when some shapes are inside other shapes, we call outer one as parent and inner one as child.\n",
        "\n",
        "            Next : next contour at the same hierarchical level.\n",
        "            Previous : previous contour at the same hierarchical level.\n",
        "            First_Child : first child contour.\n",
        "            Parent : index of its parent contour.\n",
        "            *(If there is no child or parent, that field is taken as -1)*"
      ],
      "id": "1a96bf31-0d3b-4485-8a02-d16a013b9044"
    },
    {
      "cell_type": "markdown",
      "metadata": {
        "id": "b11ff072-b605-4e20-b514-61c6f011b97a"
      },
      "source": [
        "### Method cv2.RETR_EXTERNAL"
      ],
      "id": "b11ff072-b605-4e20-b514-61c6f011b97a"
    },
    {
      "cell_type": "markdown",
      "metadata": {
        "id": "a56e6f29-e908-4bb4-ae23-e6992acbd638"
      },
      "source": [
        "- Retrieves only the extreme outer contours. It sets all contours to hierarchy[i][2] = hierarchy[i][3] = -1."
      ],
      "id": "a56e6f29-e908-4bb4-ae23-e6992acbd638"
    },
    {
      "cell_type": "code",
      "metadata": {
        "id": "acd7d73a-153a-4843-b0ef-6106f246811e"
      },
      "source": [
        "img = cv2.imread('hierarchy.jpg')\n",
        "gray = cv2.cvtColor(img, cv2.COLOR_BGR2GRAY)\n",
        "ret, thresh = cv2.threshold(gray, 127, 255, cv2.THRESH_BINARY)\n",
        "contours, hierarchy = cv2.findContours(thresh, cv2.RETR_EXTERNAL, cv2.CHAIN_APPROX_NONE)"
      ],
      "id": "acd7d73a-153a-4843-b0ef-6106f246811e",
      "execution_count": null,
      "outputs": []
    },
    {
      "cell_type": "code",
      "metadata": {
        "id": "68fe71a0-b328-4f03-8d46-71fd69f65400",
        "outputId": "762870c8-0bde-4bbb-9750-48318431910a"
      },
      "source": [
        "hierarchy"
      ],
      "id": "68fe71a0-b328-4f03-8d46-71fd69f65400",
      "execution_count": null,
      "outputs": [
        {
          "data": {
            "text/plain": [
              "array([[[   1,   -1,   -1,   -1],\n",
              "        [   2,    0,   -1,   -1],\n",
              "        [   3,    1,   -1,   -1],\n",
              "        ...,\n",
              "        [2825, 2823,   -1,   -1],\n",
              "        [2826, 2824,   -1,   -1],\n",
              "        [  -1, 2825,   -1,   -1]]], dtype=int32)"
            ]
          },
          "execution_count": 4,
          "metadata": {},
          "output_type": "execute_result"
        }
      ]
    },
    {
      "cell_type": "markdown",
      "metadata": {
        "id": "259fb7d9-efab-4df3-aaed-c494497783da"
      },
      "source": [
        "### Draw Contour cv2.drawContour()"
      ],
      "id": "259fb7d9-efab-4df3-aaed-c494497783da"
    },
    {
      "cell_type": "markdown",
      "metadata": {
        "id": "135e43c9-4ab8-4efd-bf54-c66deebce9a2"
      },
      "source": [
        "- menggunakan method cv2.drawContours(img, contour, contour_index, (B,G,R), thickness)\n",
        "- dimana :\n",
        "    - img : input image\n",
        "    - contour : contour location (list)\n",
        "    - contour_index : parameter indicating a contour to draw. If it is negative, all the contours are drawn.\n",
        "    - (B,G,R) : contour color\n",
        "    - thickness : contour thickness\n"
      ],
      "id": "135e43c9-4ab8-4efd-bf54-c66deebce9a2"
    },
    {
      "cell_type": "code",
      "metadata": {
        "id": "c50c2832-a42f-43d4-8e6f-49d6eaf7166d"
      },
      "source": [
        "for cnt in contours:\n",
        "    cv2.drawContours(img, cnt, -1, (0,0,255), 3)"
      ],
      "id": "c50c2832-a42f-43d4-8e6f-49d6eaf7166d",
      "execution_count": null,
      "outputs": []
    },
    {
      "cell_type": "code",
      "metadata": {
        "id": "4464cf8e-e0c0-4822-8b0b-91e604e5fb6f"
      },
      "source": [
        "for cnt in contours:\n",
        "    cv2.drawContours(img, cnt, -1, (0,0,255), 3)\n",
        "cv2.imshow(\"Drawing Contour - Method External\", img)\n",
        "cv2.waitKey(0)\n",
        "cv2.destroyAllWindows()"
      ],
      "id": "4464cf8e-e0c0-4822-8b0b-91e604e5fb6f",
      "execution_count": null,
      "outputs": []
    },
    {
      "cell_type": "markdown",
      "metadata": {
        "id": "e4f22379-c704-4903-944c-c28509e6e3df"
      },
      "source": [
        "### Method cv2.RETR_TREE"
      ],
      "id": "e4f22379-c704-4903-944c-c28509e6e3df"
    },
    {
      "cell_type": "markdown",
      "metadata": {
        "id": "2a85df54-2756-4ccd-8fb8-4229dc513abc"
      },
      "source": [
        "- retrieves all of the contours and reconstructs a full hierarchy of nested contours."
      ],
      "id": "2a85df54-2756-4ccd-8fb8-4229dc513abc"
    },
    {
      "cell_type": "code",
      "metadata": {
        "id": "37706cd0-297d-437f-8273-844eb7723730"
      },
      "source": [
        "img = cv2.imread('hierarchy.jpg')\n",
        "gray = cv2.cvtColor(img, cv2.COLOR_BGR2GRAY)\n",
        "ret, thresh = cv2.threshold(gray, 127, 255, cv2.THRESH_BINARY)\n",
        "contours, hierarchy = cv2.findContours(thresh, cv2.RETR_TREE, cv2.CHAIN_APPROX_NONE)"
      ],
      "id": "37706cd0-297d-437f-8273-844eb7723730",
      "execution_count": null,
      "outputs": []
    },
    {
      "cell_type": "code",
      "metadata": {
        "id": "92498ad2-819f-4af4-82fb-047e3e3288cf",
        "outputId": "0273d684-d103-4f23-b280-14eebea3e73f"
      },
      "source": [
        "hierarchy"
      ],
      "id": "92498ad2-819f-4af4-82fb-047e3e3288cf",
      "execution_count": null,
      "outputs": [
        {
          "data": {
            "text/plain": [
              "array([[[   1,   -1,   -1,   -1],\n",
              "        [   2,    0,   -1,   -1],\n",
              "        [   3,    1,   -1,   -1],\n",
              "        ...,\n",
              "        [6313, 6311,   -1, 6278],\n",
              "        [6314, 6312,   -1, 6278],\n",
              "        [  -1, 6313,   -1, 6278]]], dtype=int32)"
            ]
          },
          "execution_count": 9,
          "metadata": {},
          "output_type": "execute_result"
        }
      ]
    },
    {
      "cell_type": "code",
      "metadata": {
        "id": "03e28cdc-b10f-4c6c-b344-122d7db3dd76"
      },
      "source": [
        "for cnt in contours:\n",
        "    cv2.drawContours(img, cnt, -1, (0,0,255), 3)"
      ],
      "id": "03e28cdc-b10f-4c6c-b344-122d7db3dd76",
      "execution_count": null,
      "outputs": []
    },
    {
      "cell_type": "code",
      "metadata": {
        "id": "63ee23e7-c964-4be7-8102-50aae90781d8"
      },
      "source": [
        "cv2.imshow(\"Drawing Contour - Method TREE\", img)\n",
        "cv2.waitKey(0)\n",
        "cv2.destroyAllWindows()"
      ],
      "id": "63ee23e7-c964-4be7-8102-50aae90781d8",
      "execution_count": null,
      "outputs": []
    },
    {
      "cell_type": "markdown",
      "metadata": {
        "id": "e70d0fd4-b23d-455c-8504-ccd8893bc962"
      },
      "source": [
        "### Method cv2.RETR_CCOMP"
      ],
      "id": "e70d0fd4-b23d-455c-8504-ccd8893bc962"
    },
    {
      "cell_type": "markdown",
      "metadata": {
        "id": "d7b5007a-09b5-430a-a9bf-5e503f3f04fa"
      },
      "source": [
        "- retrieves all of the contours and organizes them into a two-level hierarchy."
      ],
      "id": "d7b5007a-09b5-430a-a9bf-5e503f3f04fa"
    },
    {
      "cell_type": "code",
      "metadata": {
        "id": "1d6d1815-fc95-4610-984b-d828fe1cb14e"
      },
      "source": [
        "img = cv2.imread('hierarchy.jpg')\n",
        "gray = cv2.cvtColor(img, cv2.COLOR_BGR2GRAY)\n",
        "ret, thresh = cv2.threshold(gray, 127, 255, cv2.THRESH_BINARY)\n",
        "contours, hierarchy = cv2.findContours(thresh, cv2.RETR_CCOMP, cv2.CHAIN_APPROX_NONE)"
      ],
      "id": "1d6d1815-fc95-4610-984b-d828fe1cb14e",
      "execution_count": null,
      "outputs": []
    },
    {
      "cell_type": "code",
      "metadata": {
        "id": "09a8fd4e-9380-4c7f-8602-a9a792150904"
      },
      "source": [
        "for cnt in contours:\n",
        "    cv2.drawContours(img, cnt, -1, (0,0,255), 3)"
      ],
      "id": "09a8fd4e-9380-4c7f-8602-a9a792150904",
      "execution_count": null,
      "outputs": []
    },
    {
      "cell_type": "code",
      "metadata": {
        "id": "958a7ecb-92d5-42ea-bb99-3f165a88e335"
      },
      "source": [
        "cv2.imshow(\"Drawing Contour - Method CCOMP\", img)\n",
        "cv2.waitKey(0)\n",
        "cv2.destroyAllWindows()"
      ],
      "id": "958a7ecb-92d5-42ea-bb99-3f165a88e335",
      "execution_count": null,
      "outputs": []
    },
    {
      "cell_type": "markdown",
      "metadata": {
        "id": "f4711126-68e3-4074-b472-054d308ae746"
      },
      "source": [
        "### Task"
      ],
      "id": "f4711126-68e3-4074-b472-054d308ae746"
    },
    {
      "cell_type": "markdown",
      "metadata": {
        "id": "1a47dc14-1921-4016-84f4-f6a9ef066cef"
      },
      "source": [
        "- Read noisy_text.png\n",
        "- Convert to grayscale\n",
        "- Apply thresholding,\n",
        "- Find extream contour\n",
        "- Draw contour"
      ],
      "id": "1a47dc14-1921-4016-84f4-f6a9ef066cef"
    },
    {
      "cell_type": "code",
      "metadata": {
        "id": "57e0a27f-f80d-43b4-a521-546324bbaf67"
      },
      "source": [
        "img = cv2.imread('jawaban_task2.png')\n",
        "gray = cv2.cvtColor(img, cv2.COLOR_BGR2GRAY) \n",
        "ret, thresh = cv2.threshold(gray, 100, 255, cv2.THRESH_BINARY_INV)\n",
        "contours, hierarchy = cv2.findContours(thresh, cv2.RETR_EXTERNAL, cv2.CHAIN_APPROX_NONE)\n",
        "\n",
        "for cnt in contours:\n",
        "    cv2.drawContours(img, cnt, -1, (255,0,255), 6)\n",
        "    \n",
        "cv2.imshow(\"Drawing Contour\", img)\n",
        "cv2.imshow(\"Binary\", thresh)\n",
        "cv2.waitKey(0)\n",
        "cv2.destroyAllWindows()"
      ],
      "id": "57e0a27f-f80d-43b4-a521-546324bbaf67",
      "execution_count": null,
      "outputs": []
    }
  ]
}