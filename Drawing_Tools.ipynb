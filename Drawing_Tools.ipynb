{
  "nbformat": 4,
  "nbformat_minor": 5,
  "metadata": {
    "kernelspec": {
      "display_name": "Python 3",
      "language": "python",
      "name": "python3"
    },
    "language_info": {
      "codemirror_mode": {
        "name": "ipython",
        "version": 3
      },
      "file_extension": ".py",
      "mimetype": "text/x-python",
      "name": "python",
      "nbconvert_exporter": "python",
      "pygments_lexer": "ipython3",
      "version": "3.9.1"
    },
    "colab": {
      "name": "Drawing Tools.ipynb",
      "provenance": [],
      "collapsed_sections": [],
      "include_colab_link": true
    }
  },
  "cells": [
    {
      "cell_type": "markdown",
      "metadata": {
        "id": "view-in-github",
        "colab_type": "text"
      },
      "source": [
        "<a href=\"https://colab.research.google.com/github/aldiirianto/praktikum-computervision/blob/main/Drawing_Tools.ipynb\" target=\"_parent\"><img src=\"https://colab.research.google.com/assets/colab-badge.svg\" alt=\"Open In Colab\"/></a>"
      ]
    },
    {
      "cell_type": "code",
      "metadata": {
        "id": "1e776d88"
      },
      "source": [
        "import cv2\n",
        "import numpy as np"
      ],
      "id": "1e776d88",
      "execution_count": null,
      "outputs": []
    },
    {
      "cell_type": "markdown",
      "metadata": {
        "id": "3354ca03"
      },
      "source": [
        "# OpenCV Drawing Tool\n",
        "\n",
        "- Menggambar bentuk **garis** menggunakan cv2.line()\n",
        "- Menggambar bentuk **elips** menggunakan cv2.ellipse()\n",
        "- Menggambar bentuk **persegi panjang** menggunakan cv2.rectangle()\n",
        "- Menggambar bentuk **lingkaran** menggunakan cv2.circle()\n",
        "- Menggambar bentuk **poligon terisi** menggunakan cv2.fillPoly()\n",
        "- Menulis sebuah **teks** menggunakan cv2.putText()"
      ],
      "id": "3354ca03"
    },
    {
      "cell_type": "markdown",
      "metadata": {
        "id": "fd6d1380"
      },
      "source": [
        "## Gambar Garis cv2.line()\n",
        "    - Metode yang digunakan cv2.line(img, (x0,y0), (xt,yt), (B,G,R), thickness, line_type)\n",
        "    - Untuk :\n",
        "      - img : input image\n",
        "      - (x0, y0) : start point (tuple)\n",
        "      - (xt, yt) : end point (tuple)\n",
        "      - (B, G, R) : line color (tuple)\n",
        "      - thickness : line thickness\n",
        "      - line_type :\n",
        "            cv2.FILLED : filled line\n",
        "            cv2.LINE_4 : 4-connected line\n",
        "            cv2.LINE_8 : 8-connected line\n",
        "            cv2.LINE_AA : antialiased line"
      ],
      "id": "fd6d1380"
    },
    {
      "cell_type": "code",
      "metadata": {
        "id": "630429a4"
      },
      "source": [
        "background = np.zeros((400, 400, 3)).astype(np.uint8)\n",
        "\n",
        "#  horizontal line (red), y0 = yt\n",
        "cv2.line(background,\n",
        "         (100, 350),                \n",
        "         (300, 350),               \n",
        "         (50,0,255),              \n",
        "         3,\n",
        "         cv2.FILLED)                      \n",
        "\n",
        "# vertical line (green), x0 = xt\n",
        "cv2.line(background,\n",
        "         (50, 100),                \n",
        "         (50, 300),              \n",
        "         (25,255,0),               \n",
        "         20,\n",
        "         cv2.LINE_8)  \n",
        "\n",
        "# garis miring (pink)\n",
        "cv2.line(background,\n",
        "         (250, 300),                   \n",
        "         (230 ,100),              \n",
        "         (255,0,255),             \n",
        "         5,\n",
        "         cv2.LINE_4)  \n",
        "\n",
        "# garis miring (tosca)\n",
        "cv2.line(background,\n",
        "         (300, 300),                \n",
        "         (280, 100),              \n",
        "         (100,127,0),               \n",
        "         5,\n",
        "         cv2.LINE_AA) \n",
        "\n",
        "cv2.imshow(\"Draw Line\", background)\n",
        "cv2.waitKey(0)\n",
        "cv2.destroyAllWindows()"
      ],
      "id": "630429a4",
      "execution_count": null,
      "outputs": []
    },
    {
      "cell_type": "markdown",
      "metadata": {
        "id": "4f79f350"
      },
      "source": [
        "## Gambar Persegi Panjang cv2.rectangle()\n",
        "   - Menggunakan method cv2.rectangle(img, (x0,y0), (xt,yt), (B, G, R), thickness, line_type)\n",
        "   - untuk :\n",
        "       - img : input image\n",
        "       - (x0, y0) : top-left-corner rectangle point (tuple)\n",
        "       - (xt, yt) : bottom-right-corner rectangle point (tuple)\n",
        "       - (B, G, R) : rectangle color (tuple)\n",
        "       - thickness : rectangle thickness (if negative, color will be user as fillcolor)\n",
        "       - line_type :\n",
        "       - cv2.FILLED : filled line\n",
        "       - cv2.LINE_4 : 4-connected line\n",
        "       - cv2.LINE_8 : 8-connected line\n",
        "       - cv2.LINE_AA : antialiased line"
      ],
      "id": "4f79f350"
    },
    {
      "cell_type": "code",
      "metadata": {
        "id": "31de18b8"
      },
      "source": [
        "background = np.zeros((400, 400, 3)).astype(np.uint8)\n",
        "\n",
        "# outline color\n",
        "cv2.rectangle(background,\n",
        "              (15,25),    \n",
        "              (200,150),  \n",
        "              (0,0,255), \n",
        "              5)          \n",
        "\n",
        "# fill color\n",
        "cv2.rectangle(background,\n",
        "              (210,50),   \n",
        "              (270,270),  \n",
        "              (0,200,255),\n",
        "              -1,\n",
        "               cv2.LINE_AA)           \n",
        "\n",
        "cv2.imshow(\"Draw Rectangle\", background)\n",
        "\n",
        "cv2.waitKey(0)\n",
        "cv2.destroyAllWindows()"
      ],
      "id": "31de18b8",
      "execution_count": null,
      "outputs": []
    },
    {
      "cell_type": "markdown",
      "metadata": {
        "id": "20da45be"
      },
      "source": [
        "# Gambar Lingkaran cv2.circle()\n",
        "   - Menggunakan method cv2.circle(img, (x,y), radius, (B, G, R), thickness, line_type)\n",
        "   - untuk :\n",
        "       - img : input image\n",
        "       - (x0, y0) : top-left-corner rectangle point (tuple)\n",
        "       - (xt, yt) : bottom-right-corner rectangle point (tuple)\n",
        "       - (B, G, R) : rectangle color (tuple)\n",
        "       - thickness : rectangle thickness (if negative, color will be user as fillcolor)\n",
        "       - line_type :\n",
        "       - cv2.FILLED : filled line\n",
        "       - cv2.LINE_4 : 4-connected line\n",
        "       - cv2.LINE_8 : 8-connected line\n",
        "       - cv2.LINE_AA : antialiased line"
      ],
      "id": "20da45be"
    },
    {
      "cell_type": "code",
      "metadata": {
        "id": "0d48faa5"
      },
      "source": [
        "img = cv2.imread(\"animal.jpg\")\n",
        "\n",
        "# circle outline\n",
        "cv2.circle(img,\n",
        "           (65, 65),         \n",
        "           55,               \n",
        "           (0,255,150),      \n",
        "           2,\n",
        "           cv2.LINE_AA)         \n",
        "\n",
        "# circle fill\n",
        "cv2.circle(img,\n",
        "           (65, 250),         \n",
        "           55,                \n",
        "           (0,50,250),       \n",
        "           -1,\n",
        "           cv2.LINE_AA)                \n",
        "                             \n",
        "    \n",
        "cv2.imshow(\"Draw Circle\", img)\n",
        "\n",
        "cv2.waitKey(0)\n",
        "cv2.destroyAllWindows()"
      ],
      "id": "0d48faa5",
      "execution_count": null,
      "outputs": []
    },
    {
      "cell_type": "markdown",
      "metadata": {
        "id": "d65dd376"
      },
      "source": [
        "# Tulis Teks cv2.putText()\n",
        "   - Menggunakan method cv2.putText(img, text, (x,y), font_type, font_scale, (B, G, R), thickness, line_type)\n",
        "   - untuk :\n",
        "       - img : input image\n",
        "       - text : string to write in image\n",
        "       - (x, y) : start-left position of text (tuple)\n",
        "       - font_type :\n",
        "            cv2.FONT_HERSHEY_SIMPLEX : size sans-serif font\n",
        "            cv2.FONT_HERSHEY_PLAIN : small size sans-serif font\n",
        "            cv2.FONT_HERSHEY_DUPLEX : normal size sans-serif font (more complex than FONT_HERSHEY_SIMPLEX)\n",
        "            cv2.FONT_HERSHEY_COMPLEX : normal size serif font\n",
        "            cv2.FONT_HERSHEY_TRIPLEX : normal size serif font (more complex than FONT_HERSHEY_COMPLEX)\n",
        "            cv2.FONT_HERSHEY_COMPLEX_SMALL : smaller version of FONT_HERSHEY_COMPLEX\n",
        "            cv2.FONT_HERSHEY_SCRIPT_SIMPLEX : hand-writing style font\n",
        "            cv2.FONT_HERSHEY_SCRIPT_COMPLEX : more complex variant of FONT_HERSHEY_SCRIPT_SIMPLEX\n",
        "            cv2.FONT_ITALIC : flag for italic font\n",
        "       - (B, G, R) : circle color (tuple)\n",
        "       - thickness : circle thickness (if negative, color will be user as fillcolor)\n",
        "       - line_type :\n",
        "            cv2.FILLED : filled line\n",
        "            cv2.LINE_4 : 4-connected line\n",
        "            cv2.LINE_8 : 8-connected line\n",
        "            cv2.LINE_AA : antialiased line"
      ],
      "id": "d65dd376"
    },
    {
      "cell_type": "code",
      "metadata": {
        "id": "50267392"
      },
      "source": [
        "A = [1, 2, 3, 4]\n",
        "B = ['A', 'B', 'C', 'D']\n",
        "\n",
        "C = zip(A, B)\n",
        "print(list(C))"
      ],
      "id": "50267392",
      "execution_count": null,
      "outputs": []
    },
    {
      "cell_type": "code",
      "metadata": {
        "id": "42cffe4b"
      },
      "source": [
        "background = np.zeros((200, 600, 3)).astype(np.uint8)\n",
        "h, w, c = background.shape\n",
        "\n",
        "font_types = [cv2.FONT_HERSHEY_SIMPLEX,\n",
        "            cv2.FONT_HERSHEY_PLAIN,\n",
        "            cv2.FONT_HERSHEY_DUPLEX,\n",
        "            cv2.FONT_HERSHEY_COMPLEX,\n",
        "            cv2.FONT_HERSHEY_TRIPLEX,\n",
        "            cv2.FONT_HERSHEY_COMPLEX_SMALL,\n",
        "            cv2.FONT_HERSHEY_SCRIPT_SIMPLEX,\n",
        "            cv2.FONT_HERSHEY_SCRIPT_COMPLEX,\n",
        "            cv2.FONT_ITALIC ]\n",
        "\n",
        "texts      = ['FONT HERSHEY SIMPLEX',\n",
        "            'FONT HERSHEY PLAIN',\n",
        "            'FONT HERSHEY DUPLEX',\n",
        "            'FONT HERSHEY COMPLEX',\n",
        "            'FONT HERSHEY TRIPLEX',\n",
        "            'FONT HERSHEY COMPLEX SMALL',\n",
        "            'FONT HERSHEY SCRIPT SIMPLEX',\n",
        "            'FONT HERSHEY SCRIPT COMPLEX',\n",
        "            'FONT ITALIC' ]\n",
        "\n",
        "for text, font_type in zip(texts, font_types):\n",
        "    frame = background.copy()\n",
        "    cv2.putText(frame, \n",
        "                text, \n",
        "                (50, 50), \t                   \n",
        "                font_type,     \n",
        "                0.9,                          \n",
        "                (0, 255, 127),                \n",
        "                1,\n",
        "                cv2.LINE_AA)      \n",
        "    cv2.imshow(\"Write Text\", frame)\n",
        "    cv2.waitKey(2000) #delay 2 second\n",
        "    \n",
        "cv2.destroyAllWindows()"
      ],
      "id": "42cffe4b",
      "execution_count": null,
      "outputs": []
    },
    {
      "cell_type": "markdown",
      "metadata": {
        "id": "b3963b6d"
      },
      "source": [
        "- Mouse Event Click untuk draw line"
      ],
      "id": "b3963b6d"
    },
    {
      "cell_type": "code",
      "metadata": {
        "id": "9b48eb3a"
      },
      "source": [
        "x0, y0, xt, yt = 0, 0, 0, 0\n",
        "\n",
        "title_window = \"Draw Line\"\n",
        "is_draw = False\n",
        "frame = np.ones((400, 400, 3)).astype(np.uint8)*255\n",
        " \n",
        "def draw_line(x0, y0, xt, yt):\n",
        "    background = frame.copy()\n",
        "    cv2.line(background, (x0, y0), (xt, yt), (255,0,255), 15, cv2.LINE_AA)\n",
        "    cv2.imshow(title_window, background)\n",
        "    \n",
        "    \n",
        "def read_line(event,x,y,flags,param):\n",
        "    \n",
        "    global x0, y0, xt, yt, is_draw\n",
        "    \n",
        "    if event == cv2.EVENT_LBUTTONDOWN:\n",
        "        x0, y0, xt, yt = x, y, x, y\n",
        "        is_draw = True\n",
        "\n",
        "    elif event == cv2.EVENT_MOUSEMOVE:\n",
        "        xt, yt = x, y\n",
        "\n",
        "    elif event == cv2.EVENT_LBUTTONUP:\n",
        "        xt, yt = x, y\n",
        "        is_draw = False\n",
        "        \n",
        "    if is_draw :\n",
        "        draw_line(x0, y0, xt, yt)\n",
        "    \n",
        "    \n",
        "cv2.namedWindow(title_window) \n",
        "cv2.setMouseCallback(title_window, read_line) \n",
        "\n",
        "draw_line(x0, y0, xt, yt)\n",
        "cv2.waitKey(0)\n",
        "cv2.destroyAllWindows()"
      ],
      "id": "9b48eb3a",
      "execution_count": null,
      "outputs": []
    },
    {
      "cell_type": "markdown",
      "metadata": {
        "id": "35ffab54"
      },
      "source": [
        "Mouse Event Click dan Trackbar untuk draw circle\n",
        "hitung radius circle dengan menggunakan,\n",
        "\n",
        "$r = \\sqrt{(x - x0)^{2} + (y - y0)^{2}} $\n",
        "\n",
        "untuk $x0$ dan $y0$ merupakan pusat lingkaran."
      ],
      "id": "35ffab54"
    },
    {
      "cell_type": "code",
      "metadata": {
        "id": "d3eea461"
      },
      "source": [
        "import math\n",
        "x0, y0, r = 0, 0, 0\n",
        "\n",
        "title_window = \"Draw Circle\"\n",
        "is_draw = False\n",
        "frame = np.ones((400, 400, 3)).astype(np.uint8)*255\n",
        " \n",
        "def draw_circle(x0, y0, r):\n",
        "    background = frame.copy()\n",
        "    cv2.circle(background, (x0, y0), r, (0,255,150), 2, cv2.LINE_AA)\n",
        "    cv2.imshow(title_window, background)\n",
        "    \n",
        "    \n",
        "def read_circle(event,x,y,flags,param):\n",
        "    \n",
        "    global x0, y0, r, is_draw\n",
        "    \n",
        "    if event == cv2.EVENT_LBUTTONDOWN:\n",
        "        x0, y0, r = x, y, 0\n",
        "        is_draw = True\n",
        "\n",
        "    elif event == cv2.EVENT_MOUSEMOVE:\n",
        "        r = int(math.sqrt((x - x0)**2 + (y - y0)**2))\n",
        "\n",
        "    elif event == cv2.EVENT_LBUTTONUP:\n",
        "        r = int(math.sqrt((x - x0)**2 + (y - y0)**2))\n",
        "        is_draw = False\n",
        "        \n",
        "    if is_draw :\n",
        "        draw_circle(x0, y0, r)\n",
        "    \n",
        "    \n",
        "cv2.namedWindow(title_window) \n",
        "cv2.setMouseCallback(title_window, read_circle) \n",
        "\n",
        "draw_circle(x0, y0, r)\n",
        "cv2.waitKey(0)\n",
        "cv2.destroyAllWindows()"
      ],
      "id": "d3eea461",
      "execution_count": null,
      "outputs": []
    },
    {
      "cell_type": "markdown",
      "metadata": {
        "id": "ba467f67"
      },
      "source": [
        "Task\n",
        "Mouse Event Click untuk draw rectangle"
      ],
      "id": "ba467f67"
    },
    {
      "cell_type": "code",
      "metadata": {
        "id": "04f09976"
      },
      "source": [
        "x0, y0, xt, yt = 0, 0, 0, 0\n",
        "\n",
        "title_window = \"Draw Rectangle\"\n",
        "is_draw = False\n",
        "frame = np.ones((400, 400, 3)).astype(np.uint8)*255\n",
        " \n",
        "def draw_rectangle(x0, y0, xt, yt):\n",
        "    background = frame.copy()\n",
        "    cv2.rectangle(background, (x0, y0), (xt, yt), (0,200,255), -1, cv2.LINE_AA)\n",
        "    cv2.imshow(title_window, background)\n",
        "    \n",
        "    \n",
        "def read_rectangle(event,x,y,flags,param):\n",
        "    \n",
        "    global x0, y0, xt, yt, is_draw\n",
        "    \n",
        "    if event == cv2.EVENT_LBUTTONDOWN:\n",
        "        x0, y0, xt, yt = x, y, x, y\n",
        "        is_draw = True\n",
        "\n",
        "    elif event == cv2.EVENT_MOUSEMOVE:\n",
        "        xt, yt = x, y\n",
        "\n",
        "    elif event == cv2.EVENT_LBUTTONUP:\n",
        "        xt, yt = x, y\n",
        "        is_draw = False\n",
        "        \n",
        "    if is_draw :\n",
        "        draw_rectangle(x0, y0, xt, yt)\n",
        "    \n",
        "    \n",
        "cv2.namedWindow(title_window) \n",
        "cv2.setMouseCallback(title_window, read_rectangle) \n",
        "\n",
        "draw_rectangle(x0, y0, xt, yt)\n",
        "cv2.waitKey(0)\n",
        "cv2.destroyAllWindows()\n"
      ],
      "id": "04f09976",
      "execution_count": null,
      "outputs": []
    },
    {
      "cell_type": "markdown",
      "metadata": {
        "id": "1GrAxo83jM-d"
      },
      "source": [
        "Resources :\n",
        "\n",
        "https://github.com/Muhammad-Yunus/Belajar-Computer-Vision/blob/3260f818d1e4dc0e580ad466718bcf92e96b7589/10.%20OpenCV%20-%20Part%204/10.%20OpenCV%20-%20Part%204.ipynb"
      ],
      "id": "1GrAxo83jM-d"
    }
  ]
}